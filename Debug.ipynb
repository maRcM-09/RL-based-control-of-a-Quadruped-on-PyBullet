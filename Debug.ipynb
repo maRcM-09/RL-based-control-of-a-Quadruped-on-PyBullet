{
 "cells": [
  {
   "cell_type": "code",
   "execution_count": null,
   "metadata": {},
   "outputs": [],
   "source": [
    "import numpy as np\n",
    "\n",
    "goal_x = np.arange(np.pi/4, 11, np.pi/2)\n",
    "goal_y = 0.2 * goal_x * np.sin(2*goal_x)\n",
    "\n",
    "\n",
    "print(f'goal_x: {goal_x}\\n goal_y: {goal_y}')"
   ]
  },
  {
   "cell_type": "code",
   "execution_count": null,
   "metadata": {},
   "outputs": [],
   "source": [
    "goal_location = np.array([goal_x[0],  goal_y[0]])\n",
    "print(f\"goal_location: {goal_location}\")"
   ]
  },
  {
   "cell_type": "code",
   "execution_count": null,
   "metadata": {},
   "outputs": [],
   "source": [
    "import matplotlib.pyplot as plt"
   ]
  },
  {
   "cell_type": "code",
   "execution_count": 14,
   "metadata": {},
   "outputs": [],
   "source": [
    "def split(x_pos, y_pos, threshold):\n",
    "    for i in range(len(x_pos) - 1):\n",
    "        if abs(x_pos[i] - x_pos[i + 1]) > threshold:\n",
    "            # Split the trajectory at the gap\n",
    "            split_x = x_pos[:i + 1]\n",
    "            next_x = x_pos[i + 1:]\n",
    "            split_y = y_pos[:i + 1]\n",
    "            next_y = y_pos[i + 1:]\n",
    "            return split_x, split_y, next_x, next_y\n",
    "\n",
    "    # If no gap is found, return the full trajectory as one segment\n",
    "    return x_pos, y_pos, [], []\n"
   ]
  },
  {
   "cell_type": "code",
   "execution_count": 15,
   "metadata": {},
   "outputs": [],
   "source": [
    "def plot_traj(x_pos, y_pos):\n",
    "    x_segments = []\n",
    "    y_segments = []\n",
    "    threshold = 2  # Define the threshold for splitting trajectories\n",
    "\n",
    "    # Keep splitting until no gaps are found\n",
    "    while len(x_pos) > 0:\n",
    "        x_split, y_split, x_pos, y_pos = split(x_pos, y_pos, threshold)\n",
    "\n",
    "        # Append the current segment if it’s non-empty\n",
    "        if len(x_split) > 0:\n",
    "            x_segments.append(x_split)\n",
    "            y_segments.append(y_split)\n",
    "\n",
    "        # Exit if no more points remain\n",
    "        if len(x_pos) == 0:\n",
    "            break\n",
    "\n",
    "    # Plot each segment\n",
    "    for i in range(len(x_segments)):\n",
    "        plt.plot(x_segments[i], y_segments[i], label=f'Episode {i + 1}')\n",
    "\n",
    "    # Add markers for the initial and goal positions\n",
    "    plt.scatter(0, 0, color='green', marker='o', s=100, label='Initial Position')\n",
    "    plt.scatter(5, 5, color='red', marker='X', s=100, label='Goal Position')\n",
    "\n",
    "    # Add labels, title, and legend\n",
    "    plt.xlabel('X values')\n",
    "    plt.ylabel('Y values')\n",
    "    plt.title('Trajectory Plot')\n",
    "    plt.legend()\n",
    "    plt.show()\n"
   ]
  },
  {
   "cell_type": "code",
   "execution_count": null,
   "metadata": {},
   "outputs": [],
   "source": [
    "# Test Case 1: Simple continuous trajectory\n",
    "x_pos1 = [0, 1, 2, 3, 4, 5]\n",
    "y_pos1 = [0, 1, 2, 3, 4, 5]\n",
    "print(\"Test Case 1: Simple continuous trajectory\")\n",
    "plot_traj(x_pos1, y_pos1)"
   ]
  },
  {
   "cell_type": "code",
   "execution_count": null,
   "metadata": {},
   "outputs": [],
   "source": [
    "# Test Case 2: Trajectory with a gap exceeding the threshold\n",
    "x_pos2 = [0, 1, 2, 10, 11, 12]\n",
    "y_pos2 = [0, 1, 2, 10, 11, 12]\n",
    "print(\"Test Case 2: Trajectory with a gap exceeding the threshold\")\n",
    "plot_traj(x_pos2, y_pos2)"
   ]
  },
  {
   "cell_type": "code",
   "execution_count": null,
   "metadata": {},
   "outputs": [],
   "source": [
    "# Test Case 3: Multiple gaps in the trajectory\n",
    "x_pos3 = [0, 1, 2, 10, 11, 20, 21, 22]\n",
    "y_pos3 = [0, 1, 2, 10, 11, 20, 21, 22]\n",
    "print(\"Test Case 3: Multiple gaps in the trajectory\")\n",
    "plot_traj(x_pos3, y_pos3)"
   ]
  },
  {
   "cell_type": "code",
   "execution_count": null,
   "metadata": {},
   "outputs": [],
   "source": [
    "# Test Case 4: Single point trajectory\n",
    "x_pos4 = [0]\n",
    "y_pos4 = [0]\n",
    "print(\"Test Case 4: Single point trajectory\")\n",
    "plot_traj(x_pos4, y_pos4)"
   ]
  },
  {
   "cell_type": "code",
   "execution_count": null,
   "metadata": {},
   "outputs": [],
   "source": [
    "# Test Case 5: Empty trajectory\n",
    "x_pos5 = []\n",
    "y_pos5 = []\n",
    "print(\"Test Case 5: Empty trajectory (should handle gracefully)\")\n",
    "plot_traj(x_pos5, y_pos5)"
   ]
  },
  {
   "cell_type": "code",
   "execution_count": null,
   "metadata": {},
   "outputs": [],
   "source": [
    "# Test Case 6: No gaps in a larger trajectory\n",
    "x_pos6 = list(range(20))\n",
    "y_pos6 = list(range(20))\n",
    "print(\"Test Case 6: No gaps in a larger trajectory\")\n",
    "plot_traj(x_pos6, y_pos6)"
   ]
  },
  {
   "cell_type": "code",
   "execution_count": null,
   "metadata": {},
   "outputs": [],
   "source": [
    "# Test Case 7: Gaps at the start or end\n",
    "x_pos7 = [10, 11, 12, 0, 1, 2]\n",
    "y_pos7 = [10, 11, 12, 0, 1, 2]\n",
    "print(\"Test Case 7: Gaps at the start or end\")\n",
    "plot_traj(x_pos7, y_pos7)"
   ]
  },
  {
   "cell_type": "code",
   "execution_count": null,
   "metadata": {},
   "outputs": [],
   "source": [
    "import psutil, os\n",
    "\n",
    "process = psutil.Process(os.getpid())\n",
    "for lib in process.memory_maps():\n",
    "    if 'omp' in lib.path.lower():\n",
    "        print(lib.path)\n"
   ]
  },
  {
   "cell_type": "code",
   "execution_count": null,
   "metadata": {},
   "outputs": [],
   "source": [
    "import numpy\n",
    "# import scipy\n",
    "# import matplotlib\n",
    "\n",
    "print(numpy.__config__.show())\n",
    "# print(scipy.__config__.show())\n",
    "# print(pl.__config__.show())\n",
    "\n",
    "\n",
    "\"C:\\Users\\user\\anaconda3\\envs\\lr24\\Lib\\site-packages\\autograd\\numpy\\numpy_wrapper.py\"\n"
   ]
  },
  {
   "cell_type": "code",
   "execution_count": null,
   "metadata": {},
   "outputs": [],
   "source": [
    "[-3.15 -3.15 -3.15 -10 -10 -10 -20 -20 -20 -0.21 0.375 -1.98 -0.21 0.375 -1.98 -0.21 0.375 -1.98 -0.21 0.375 -1.98 -21 -21 -21 -21 -21 -21 -21 -21 -21 -21 -21 -21 -0.01 -0.01 -0.01 -0.01 -10 -10 -6.29 -20 -10 -10 -6.29 -20 -10 -10 -6.29 -20 -10 -10 -6.29 -20 -0.01 -0.359]\n",
    "[3.15 3.15 3.15 10 10 10 20 20 20 0.21 1.2 -1.16 0.21 1.2 -1.16 0.21 1.2 -1.16 0.21 1.2 -1.16 21 21 21 21 21 21 21 21 21 21 21 21 1.01 1.01 1.01 1.01 10 10 6.29 20 10 10 6.29 20 10 10 6.29 20 10 10 6.29 20 1e+05 0.359]\n",
    "\n",
    "\n",
    "[-0.01 -0.359 -10 -10 -6.29 -20 -10 -10 -6.29 -20 -10 -10 -6.29 -20 -10 -10 -6.29 -20 -3.15 -3.15 -3.15 -10 -10 -10 -20 -20 -20 -0.21 0.375 -1.98 -0.21 0.375 -1.98 -0.21 0.375 -1.98 -0.21 0.375 -1.98 -21 -21 -21 -21 -21 -21 -21 -21 -21 -21 -21 -21 -0.01 -0.01 -0.01 -0.01]\n",
    "[1e+05 0.359 10 10 6.29 20 10 10 6.29 20 10 10 6.29 20 10 10 6.29 20 3.15 3.15 3.15 10 10 10 20 20 20 0.21 1.2 -1.16 0.21 1.2 -1.16 0.21 1.2 -1.16 0.21 1.2 -1.16 21 21 21 21 21 21 21 21 21 21 21 21 1.01 1.01 1.01 1.01]"
   ]
  },
  {
   "cell_type": "code",
   "execution_count": 1,
   "metadata": {},
   "outputs": [
    {
     "name": "stdout",
     "output_type": "stream",
     "text": [
      "Low bounds equal: True\n",
      "High bounds equal: True\n",
      "Shapes equal: True\n",
      "Dtypes equal: True\n"
     ]
    },
    {
     "name": "stderr",
     "output_type": "stream",
     "text": [
      "c:\\Users\\user\\anaconda3\\envs\\lr24\\lib\\site-packages\\gym\\logger.py:34: UserWarning: \u001b[33mWARN: Box bound precision lowered by casting to float32\u001b[0m\n",
      "  warnings.warn(colorize(\"%s: %s\" % (\"WARN\", msg % args), \"yellow\"))\n"
     ]
    }
   ],
   "source": [
    "from gym.spaces import Box\n",
    "import numpy as np\n",
    "\n",
    "obs_space_1 = Box(\n",
    "    low=np.array([-3.15, -3.15, -3.15, -10, -10, -10, -20, -20, -20, -0.21, 0.375, -1.98, -0.21, 0.375, -1.98, -0.21, 0.375, -1.98, -0.21, 0.375, -1.98, -21, -21, -21, -21, -21, -21, -21, -21, -21, -21, -21, -21, -0.01, -0.01, -0.01, -0.01, -10, -10, -6.29, -20, -10, -10, -6.29, -20, -10, -10, -6.29, -20, -10, -10, -6.29, -20]),\n",
    "    high=np.array([3.15, 3.15, 3.15, 10, 10, 10, 20, 20, 20, 0.21, 1.2, -1.16, 0.21, 1.2, -1.16, 0.21, 1.2, -1.16, 0.21, 1.2, -1.16, 21, 21, 21, 21, 21, 21, 21, 21, 21, 21, 21, 21, 1.01, 1.01, 1.01, 1.01, 10, 10, 6.29, 20, 10, 10, 6.29, 20, 10, 10, 6.29, 20, 10, 10, 6.29, 20]),\n",
    "    dtype=np.float32\n",
    ")\n",
    "\n",
    "obs_space_2 = Box(\n",
    "    low=np.array([-3.15, -3.15, -3.15, -10, -10, -10, -20, -20, -20, -0.21, 0.375, -1.98, -0.21, 0.375, -1.98, -0.21, 0.375, -1.98, -0.21, 0.375, -1.98, -21, -21, -21, -21, -21, -21, -21, -21, -21, -21, -21, -21, -0.01, -0.01, -0.01, -0.01, -10, -10, -6.29, -20, -10, -10, -6.29, -20, -10, -10, -6.29, -20, -10, -10, -6.29, -20]),\n",
    "    high=np.array([3.15, 3.15, 3.15, 10, 10, 10, 20, 20, 20, 0.21, 1.2, -1.16, 0.21, 1.2, -1.16, 0.21, 1.2, -1.16, 0.21, 1.2, -1.16, 21, 21, 21, 21, 21, 21, 21, 21, 21, 21, 21, 21, 1.01, 1.01, 1.01, 1.01, 10, 10, 6.29, 20, 10, 10, 6.29, 20, 10, 10, 6.29, 20, 10, 10, 6.29, 20]),\n",
    "    dtype=np.float32\n",
    ")\n",
    "\n",
    "# Compare the two spaces\n",
    "print(\"Low bounds equal:\", np.array_equal(obs_space_1.low, obs_space_2.low))\n",
    "print(\"High bounds equal:\", np.array_equal(obs_space_1.high, obs_space_2.high))\n",
    "print(\"Shapes equal:\", obs_space_1.shape == obs_space_2.shape)\n",
    "print(\"Dtypes equal:\", obs_space_1.dtype == obs_space_2.dtype)\n"
   ]
  }
 ],
 "metadata": {
  "kernelspec": {
   "display_name": "lr24",
   "language": "python",
   "name": "python3"
  },
  "language_info": {
   "codemirror_mode": {
    "name": "ipython",
    "version": 3
   },
   "file_extension": ".py",
   "mimetype": "text/x-python",
   "name": "python",
   "nbconvert_exporter": "python",
   "pygments_lexer": "ipython3",
   "version": "3.8.20"
  }
 },
 "nbformat": 4,
 "nbformat_minor": 2
}
